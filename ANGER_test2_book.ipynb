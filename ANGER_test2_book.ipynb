{
 "cells": [
  {
   "cell_type": "markdown",
   "metadata": {},
   "source": [
    "# Category Angry \n",
    "\n",
    "# Questions\n",
    "\n",
    "## 1. When someone asks me the same question again and again\n",
    "## 2. You are working on a project, your friend is talking to you and by mistake you didn’t save the file. The first thought would be\n"
   ]
  },
  {
   "cell_type": "code",
   "execution_count": 23,
   "metadata": {},
   "outputs": [
    {
     "name": "stdout",
     "output_type": "stream",
     "text": [
      "Enter textlet it go\n",
      "After spell checking let it go\n",
      "calm\n",
      "Anger  0.047\n",
      "Calm  0.953\n"
     ]
    }
   ],
   "source": [
    "from textblob.classifiers import NaiveBayesClassifier\n",
    "from textblob import TextBlob\n",
    "\n",
    "In = input(\"Enter text\")\n",
    "tb = TextBlob(In)\n",
    "#if (tb )\n",
    "print(\"After spell checking\",tb.correct())\n",
    "#print('\\t' + str(tb))\n",
    "\n",
    "with open(\"anger.csv\",\"r\",encoding=\"utf8\") as fp:\n",
    "    \n",
    "    \n",
    "        c1 = NaiveBayesClassifier(fp)\n",
    "        #w = c1.classify(a)\n",
    "        prob_list = c1.prob_classify(tb)\n",
    "        print(prob_list.max())\n",
    "        ab = prob_list.max()\n",
    "        print(\"Anger \",round(prob_list.prob(\"Anger\"),3))\n",
    "        print(\"Calm \", round(prob_list.prob(\"calm\"),3))\n",
    "\n",
    "        #if w==''"
   ]
  },
  {
   "cell_type": "code",
   "execution_count": null,
   "metadata": {},
   "outputs": [],
   "source": [
    "In = input(\"Enter text\")\n",
    "tb = TextBlob(In)\n",
    "#if (tb )\n",
    "#print(\"After spell checking\",tb.correct())\n",
    "print('\\t' + str(tb))\n",
    "\n",
    "with open(\"anger.csv\",\"r\",encoding=\"utf8\") as fp:\n",
    "    \n",
    "       \n",
    "        c1 = NaiveBayesClassifier(fp)\n",
    "        #w = c1.classify(a)\n",
    "        prob_list = c1.prob_classify(tb)\n",
    "        print(prob_list.max())\n",
    "        ab = prob_list.max()\n",
    "        print(\"Anger \",round(prob_list.prob(\"Anger\"),3))\n",
    "        print(\"Calm \", round(prob_list.prob(\"calm\"),3))\n",
    "\n"
   ]
  },
  {
   "cell_type": "code",
   "execution_count": null,
   "metadata": {},
   "outputs": [],
   "source": []
  },
  {
   "cell_type": "code",
   "execution_count": null,
   "metadata": {},
   "outputs": [],
   "source": []
  }
 ],
 "metadata": {
  "kernelspec": {
   "display_name": "Python 3",
   "language": "python",
   "name": "python3"
  },
  "language_info": {
   "codemirror_mode": {
    "name": "ipython",
    "version": 3
   },
   "file_extension": ".py",
   "mimetype": "text/x-python",
   "name": "python",
   "nbconvert_exporter": "python",
   "pygments_lexer": "ipython3",
   "version": "3.5.2"
  }
 },
 "nbformat": 4,
 "nbformat_minor": 2
}
